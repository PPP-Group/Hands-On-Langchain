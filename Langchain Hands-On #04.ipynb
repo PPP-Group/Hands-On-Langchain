{
 "cells": [
  {
   "cell_type": "markdown",
   "metadata": {},
   "source": [
    "# **Langchain Framework Hands-On #04**"
   ]
  },
  {
   "cell_type": "code",
   "execution_count": 1,
   "metadata": {},
   "outputs": [],
   "source": [
    "import os\n",
    "from langchain_openai import ChatOpenAI\n",
    "\n",
    "my_key = os.environ['OPENAI_API_KEY']"
   ]
  },
  {
   "cell_type": "markdown",
   "metadata": {},
   "source": [
    "### Simple LLM Chat Component"
   ]
  },
  {
   "cell_type": "code",
   "execution_count": 31,
   "metadata": {},
   "outputs": [
    {
     "data": {
      "text/plain": [
       "AIMessage(content='Langsmith can help with testing by providing automated testing tools and frameworks to streamline the testing process. It can also assist in creating test cases, generating test data, and executing tests to identify and fix any issues or bugs in the software. Additionally, Langsmith can offer continuous integration and deployment solutions to ensure that testing is integrated into the development process and that any new changes are tested before being deployed to production. Overall, Langsmith can help improve the efficiency and effectiveness of testing efforts, ultimately leading to higher quality software.')"
      ]
     },
     "execution_count": 31,
     "metadata": {},
     "output_type": "execute_result"
    }
   ],
   "source": [
    "llm = ChatOpenAI(openai_api_key=my_key, model='gpt-3.5-turbo-1106', temperature=0.8)\n",
    "llm.invoke(\"how can langsmith help with testing?\")"
   ]
  },
  {
   "cell_type": "markdown",
   "metadata": {},
   "source": [
    "### LLM Chain"
   ]
  },
  {
   "cell_type": "code",
   "execution_count": 32,
   "metadata": {},
   "outputs": [],
   "source": [
    "from langchain_core.prompts import ChatPromptTemplate\n",
    "prompt = ChatPromptTemplate.from_messages([\n",
    "    ('system', \"You are world class technical documentation writer.\"),\n",
    "    (\"user\", \"{input}\")\n",
    "])"
   ]
  },
  {
   "cell_type": "code",
   "execution_count": 33,
   "metadata": {},
   "outputs": [],
   "source": [
    "chain = prompt | llm "
   ]
  },
  {
   "cell_type": "code",
   "execution_count": 34,
   "metadata": {},
   "outputs": [
    {
     "data": {
      "text/plain": [
       "AIMessage(content=\"Langsmith can be a valuable tool for testing in several ways:\\n\\n1. Automated Testing: Langsmith can be used to develop automated tests for language processing components such as natural language understanding (NLU) models, sentiment analysis algorithms, or language generation systems. By creating test cases that simulate various inputs and expected outputs, developers can quickly validate the accuracy and performance of their language processing components.\\n\\n2. Regression Testing: When making changes to language processing components, it's essential to ensure that existing functionality remains intact. Langsmith can be utilized to run regression tests that verify that previous capabilities and behaviors are still functioning correctly after code modifications.\\n\\n3. Performance Testing: Langsmith can help in assessing the performance of language processing systems by generating a wide range of language inputs to measure response times, resource utilization, and scalability.\\n\\n4. Stress Testing: Langsmith can be used to simulate a large number of concurrent language interactions to assess how well language processing systems handle heavy loads. This type of testing can help identify and address potential bottlenecks and performance issues.\\n\\n5. Integration Testing: Langsmith can aid in integration testing by generating diverse language inputs to assess how well language processing components interact with other system modules, APIs, or external services.\\n\\n6. Edge Case Testing: Langsmith can help in identifying and testing edge cases and unusual language inputs that may not have been adequately handled in the initial development stages, helping to improve the robustness and reliability of language processing systems.\\n\\nBy leveraging Langsmith's capabilities, testers and developers can ensure the quality and reliability of language processing components across various testing scenarios.\")"
      ]
     },
     "execution_count": 34,
     "metadata": {},
     "output_type": "execute_result"
    }
   ],
   "source": [
    "chain.invoke({\"input\": \"how can langsmith help with testing?\"})"
   ]
  },
  {
   "cell_type": "code",
   "execution_count": 35,
   "metadata": {},
   "outputs": [],
   "source": [
    "# Output of a ChatModel\n",
    "from langchain_core.output_parsers import StrOutputParser\n",
    "\n",
    "output_parser = StrOutputParser()"
   ]
  },
  {
   "cell_type": "code",
   "execution_count": 36,
   "metadata": {},
   "outputs": [],
   "source": [
    "chain = prompt | llm | output_parser"
   ]
  },
  {
   "cell_type": "code",
   "execution_count": 37,
   "metadata": {},
   "outputs": [
    {
     "data": {
      "text/plain": [
       "\"Langsmith can help with testing by providing a powerful and flexible testing framework for developers. It offers features such as unit testing, integration testing, and end-to-end testing capabilities, allowing developers to thoroughly test their code and ensure its quality and reliability.\\n\\nLangsmith's testing framework supports various testing methodologies and provides tools for creating and running test cases, managing test data, and reporting test results. It also integrates with popular testing libraries and tools, making it easy to incorporate Langsmith into existing testing workflows.\\n\\nAdditionally, Langsmith's built-in test automation features enable developers to automate repetitive testing tasks, saving time and effort in the testing process. This can help improve the efficiency of testing practices and increase the overall quality of the software being developed.\\n\\nOverall, Langsmith's testing capabilities can help developers streamline their testing processes, identify and fix issues early in the development cycle, and deliver high-quality software products to their users.\""
      ]
     },
     "execution_count": 37,
     "metadata": {},
     "output_type": "execute_result"
    }
   ],
   "source": [
    "chain.invoke({\"input\": \"how can langsmith help with testing?\"})"
   ]
  },
  {
   "cell_type": "markdown",
   "metadata": {},
   "source": [
    "### Retriever Chain : Similarity Search"
   ]
  },
  {
   "cell_type": "code",
   "execution_count": 42,
   "metadata": {},
   "outputs": [],
   "source": [
    "from langchain_openai import OpenAIEmbeddings\n",
    "from langchain.text_splitter import CharacterTextSplitter\n",
    "from langchain_community.vectorstores import FAISS\n",
    "from langchain.text_splitter import RecursiveCharacterTextSplitter\n",
    "from langchain_community.document_loaders import TextLoader\n",
    "\n",
    "embeddings = OpenAIEmbeddings()\n",
    "raw_documents = TextLoader('./docs.txt').load()\n",
    "text_splitter = RecursiveCharacterTextSplitter()\n",
    "documents = text_splitter.split_documents(raw_documents)\n",
    "vector = FAISS.from_documents(documents, embeddings)"
   ]
  },
  {
   "cell_type": "code",
   "execution_count": 43,
   "metadata": {},
   "outputs": [
    {
     "name": "stdout",
     "output_type": "stream",
     "text": [
      "Our challenges may be new. The instruments with which we meet them may be new. But those values upon which our success depends — honesty and hard work, courage and fair play, tolerance and curiosity, loyalty and patriotism — these things are old. These things are true. They have been the quiet force of progress throughout our history. What is demanded then is a return to these truths. What is required of us now is a new era of responsibility — a recognition, on the part of every American, that we have duties to ourselves, our nation, and the world — duties that we do not grudgingly accept but rather seize gladly, firm in the knowledge that there is nothing so satisfying to the spirit, so defining of our character, than giving our all to a difficult task.\n",
      "This is the price and the promise of citizenship.\n",
      "This is the source of our confidence — the knowledge that God calls on us to shape an uncertain destiny.\n",
      "This is the meaning of our liberty and our creed — why men and women and children of every race and every faith can join in celebration across this magnificent mall, and why a man whose father less than sixty years ago might not have been served at a local restaurant can now stand before you to take a most sacred oath.\n",
      "So let us mark this day with remembrance, of who we are and how far we have traveled. In the year of America's birth, in the coldest of months, a small band of patriots huddled by dying campfires on the shores of an icy river. The capital was abandoned. The enemy was advancing. The snow was stained with blood. At a moment when the outcome of our revolution was most in doubt, the father of our nation ordered these words be read to the people:\n",
      "\"Let it be told to the future world...that in the depth of winter, when nothing but hope and virtue could survive...that the city and the country, alarmed at one common danger, came forth to meet [it].\"\n",
      "America, in the face of our common dangers, in this winter of our hardship, let us remember these timeless words. With hope and virtue, let us brave once more the icy currents, and endure what storms may come. Let it be said by our children's children that when we were tested we refused to let this journey end, that we did not turn back nor did we falter; and with eyes fixed on the horizon and God's grace upon us, we carried forth that great gift of freedom and delivered it safely to future generations.\n",
      "Thank you. God bless you. And God bless the United States of America.\n"
     ]
    }
   ],
   "source": [
    "query = \"What do you want to say?\"\n",
    "docs = vector.similarity_search(query)\n",
    "print(docs[0].page_content)"
   ]
  },
  {
   "cell_type": "markdown",
   "metadata": {},
   "source": [
    "### Conversation Retriever Chain"
   ]
  },
  {
   "cell_type": "code",
   "execution_count": null,
   "metadata": {},
   "outputs": [],
   "source": [
    "from langchain.chains import create_history_aware_retriever\n",
    "from langchain_core.prompts import MessagesPlaceholder\n",
    "from langchain.chains import create_retrieval_chain\n",
    "\n",
    "retriever = vector.as_retriever()\n",
    "retrieval_chain = create_retrieval_chain(retriever, document_chain)\n",
    "\n",
    "\n",
    "# First we need a prompt that we can pass into an LLM to generate this search query\n",
    "prompt = ChatPromptTemplate.from_messages([\n",
    "    MessagesPlaceholder(variable_name=\"chat_history\"),\n",
    "    (\"user\", \"{input}\"),\n",
    "    (\"user\", \"Given the above conversation, generate a search query to look up in order to get information relevant to the conversation\")\n",
    "])\n",
    "retriever_chain = create_history_aware_retriever(llm, retriever, prompt)"
   ]
  }
 ],
 "metadata": {
  "kernelspec": {
   "display_name": "genAI",
   "language": "python",
   "name": "python3"
  },
  "language_info": {
   "codemirror_mode": {
    "name": "ipython",
    "version": 3
   },
   "file_extension": ".py",
   "mimetype": "text/x-python",
   "name": "python",
   "nbconvert_exporter": "python",
   "pygments_lexer": "ipython3",
   "version": "3.10.12"
  }
 },
 "nbformat": 4,
 "nbformat_minor": 2
}
